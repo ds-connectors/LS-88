{
 "cells": [
  {
   "cell_type": "markdown",
   "metadata": {},
   "source": [
    "# CS 725/825 - Information Visualization"
   ]
  },
  {
   "cell_type": "markdown",
   "metadata": {},
   "source": [
    "See http://www.cs.odu.edu/~mweigle/CS725-S17/Guidelines for general information on ICW assignments."
   ]
  },
  {
   "cell_type": "markdown",
   "metadata": {},
   "source": [
    "## ICW1 - Part 1"
   ]
  },
  {
   "cell_type": "markdown",
   "metadata": {},
   "source": [
    "Below are two charts showing the number of participants in each Summer Olympics since 1900. These charts show the same data, but in different ways."
   ]
  },
  {
   "cell_type": "markdown",
   "metadata": {},
   "source": [
    "<img src=\"resources/summer olympics/participants_bar_chart.png\">"
   ]
  },
  {
   "cell_type": "markdown",
   "metadata": {},
   "source": [
    "<img src=\"resources/summer olympics/participants_line_graph.png\">"
   ]
  },
  {
   "cell_type": "markdown",
   "metadata": {},
   "source": [
    "For each chart, answer the following questions:\n",
    "1. What year had the most participants?\n",
    "2. What year had the least participants?\n",
    "3. Between what consecutive Olympics was there a decrease in the number of participants? (List all pairs.)\n",
    "4. Between what consecutive Olympics was there the largest increase in participants?\n",
    "5. Olympics are typically held every 4 years. Is there missing data?\n",
    "6. What other questions can you answer with this chart?"
   ]
  },
  {
   "cell_type": "markdown",
   "metadata": {},
   "source": [
    "_Write your answer here, replacing this text._"
   ]
  },
  {
   "cell_type": "markdown",
   "metadata": {},
   "source": [
    "As you answer the questions, note what you actually did to find the answer. Where did you look? What did you compare?"
   ]
  },
  {
   "cell_type": "markdown",
   "metadata": {},
   "source": [
    "_Write your answer here, replacing this text._"
   ]
  },
  {
   "cell_type": "markdown",
   "metadata": {},
   "source": [
    "Now that you've looked at both charts, compare and contrast the charts. For which questions was the bar chart easier to read? For which questions was the line chart easier to read? Why?"
   ]
  },
  {
   "cell_type": "markdown",
   "metadata": {},
   "source": [
    "Your answer must include your group's thoughts on the advantages and disadvantages of each type of chart for the types of questions that were asked."
   ]
  },
  {
   "cell_type": "markdown",
   "metadata": {},
   "source": [
    "_Write your answer here, replacing this text._"
   ]
  },
  {
   "cell_type": "markdown",
   "metadata": {},
   "source": [
    "## ICW1 - Part 2"
   ]
  },
  {
   "cell_type": "markdown",
   "metadata": {},
   "source": [
    "Below are three charts showing the percentage of Summer Olympics since 1900 that each country has hosted."
   ]
  },
  {
   "cell_type": "markdown",
   "metadata": {},
   "source": [
    "<img src=\"resources/summer olympics/hosts_pie_chart_unlabelled.png\">"
   ]
  },
  {
   "cell_type": "markdown",
   "metadata": {},
   "source": [
    "<img src=\"resources/summer olympics/hosts_pie_chart_labelled.png\">"
   ]
  },
  {
   "cell_type": "markdown",
   "metadata": {},
   "source": [
    "<img src=\"resources/summer olympics/hosts_histogram.png\">"
   ]
  },
  {
   "cell_type": "markdown",
   "metadata": {},
   "source": [
    "For each chart, answer the following questions:\n",
    "1. What country has hosted the most times?\n",
    "2. What country (or countries) have hosted the least times (only counting the countries listed)?\n",
    "3. What percentage of Olympics did the US host?\n",
    "4. What percentage of Olympics did Canada host?\n",
    "5. What other questions can you answer with this chart?"
   ]
  },
  {
   "cell_type": "markdown",
   "metadata": {},
   "source": [
    "_Write your answer here, replacing this text._"
   ]
  },
  {
   "cell_type": "markdown",
   "metadata": {},
   "source": [
    "As you answer the questions, note what you actually did to find the answer. Where did you look? What did you compare?"
   ]
  },
  {
   "cell_type": "markdown",
   "metadata": {},
   "source": [
    "_Write your answer here, replacing this text._"
   ]
  },
  {
   "cell_type": "markdown",
   "metadata": {},
   "source": [
    "Now that you've looked at all three charts, compare and contrast the charts. For which questions was the pie chart easier to read? For which questions was the bar chart easier to read? For which questions did the labeled pie chart help? Why?"
   ]
  },
  {
   "cell_type": "markdown",
   "metadata": {},
   "source": [
    "Your answer must include your group's thoughts on the advantages and disadvantages of each type of chart for the types of questions that were asked."
   ]
  },
  {
   "cell_type": "markdown",
   "metadata": {
    "collapsed": true
   },
   "source": [
    "_Write your answer here, replacing this text._"
   ]
  }
 ],
 "metadata": {
  "kernelspec": {
   "display_name": "Python 3",
   "language": "python",
   "name": "python3"
  },
  "language_info": {
   "codemirror_mode": {
    "name": "ipython",
    "version": 3
   },
   "file_extension": ".py",
   "mimetype": "text/x-python",
   "name": "python",
   "nbconvert_exporter": "python",
   "pygments_lexer": "ipython3",
   "version": "3.6.1"
  }
 },
 "nbformat": 4,
 "nbformat_minor": 2
}
