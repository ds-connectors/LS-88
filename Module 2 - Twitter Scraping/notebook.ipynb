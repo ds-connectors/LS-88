{
 "cells": [
  {
   "cell_type": "markdown",
   "metadata": {},
   "source": [
    "# Web Visualization Module 2: Twitter Scraping"
   ]
  },
  {
   "cell_type": "markdown",
   "metadata": {},
   "source": [
    "## 1. Intro"
   ]
  },
  {
   "cell_type": "markdown",
   "metadata": {},
   "source": [
    "intro text"
   ]
  },
  {
   "cell_type": "markdown",
   "metadata": {},
   "source": [
    "## 2. Importing Libraries"
   ]
  },
  {
   "cell_type": "markdown",
   "metadata": {},
   "source": [
    "### Unveil The Power Of Twitter APIs\n",
    "Twitter provides an API that facilitates downloading twitter data in large patches. Twitter data includes, but not limited to, tweets, users, followers, interactions, etc. In this assignment, we will learn how to use twitter APIs to gain more insight about twitter data. This insight goes far beyond what you see on the web interface."
   ]
  },
  {
   "cell_type": "markdown",
   "metadata": {},
   "source": [
    "## Setup\n",
    "\n",
    "### Python libraries\n",
    "We will first install the python libraries we will use for this assignment. Just run the code below."
   ]
  },
  {
   "cell_type": "code",
   "execution_count": 2,
   "metadata": {},
   "outputs": [
    {
     "name": "stdout",
     "output_type": "stream",
     "text": [
      "Requirement already satisfied: tweepy in /Users/sierra/anaconda/envs/dsmodule/lib/python3.5/site-packages\n",
      "Requirement already satisfied: six>=1.7.3 in /Users/sierra/anaconda/envs/dsmodule/lib/python3.5/site-packages (from tweepy)\n",
      "Requirement already satisfied: requests-oauthlib>=0.4.1 in /Users/sierra/anaconda/envs/dsmodule/lib/python3.5/site-packages (from tweepy)\n",
      "Requirement already satisfied: requests>=2.4.3 in /Users/sierra/anaconda/envs/dsmodule/lib/python3.5/site-packages (from tweepy)\n",
      "Requirement already satisfied: oauthlib>=0.6.2 in /Users/sierra/anaconda/envs/dsmodule/lib/python3.5/site-packages (from requests-oauthlib>=0.4.1->tweepy)\n",
      "Requirement already satisfied: textblob in /Users/sierra/anaconda/envs/dsmodule/lib/python3.5/site-packages\n",
      "Requirement already satisfied: nltk>=3.1 in /Users/sierra/anaconda/envs/dsmodule/lib/python3.5/site-packages (from textblob)\n",
      "Requirement already satisfied: six in /Users/sierra/anaconda/envs/dsmodule/lib/python3.5/site-packages (from nltk>=3.1->textblob)\n",
      "Requirement already satisfied: plotly in /Users/sierra/anaconda/envs/dsmodule/lib/python3.5/site-packages\n",
      "Requirement already satisfied: nbformat>=4.2 in /Users/sierra/anaconda/envs/dsmodule/lib/python3.5/site-packages (from plotly)\n",
      "Requirement already satisfied: pytz in /Users/sierra/anaconda/envs/dsmodule/lib/python3.5/site-packages (from plotly)\n",
      "Requirement already satisfied: six in /Users/sierra/anaconda/envs/dsmodule/lib/python3.5/site-packages (from plotly)\n",
      "Requirement already satisfied: decorator>=4.0.6 in /Users/sierra/anaconda/envs/dsmodule/lib/python3.5/site-packages (from plotly)\n",
      "Requirement already satisfied: requests in /Users/sierra/anaconda/envs/dsmodule/lib/python3.5/site-packages (from plotly)\n",
      "Requirement already satisfied: nltk in /Users/sierra/anaconda/envs/dsmodule/lib/python3.5/site-packages\n",
      "Requirement already satisfied: six in /Users/sierra/anaconda/envs/dsmodule/lib/python3.5/site-packages (from nltk)\n"
     ]
    }
   ],
   "source": [
    "!pip install tweepy\n",
    "!pip install textblob\n",
    "!pip install plotly\n",
    "!pip install nltk"
   ]
  },
  {
   "cell_type": "markdown",
   "metadata": {},
   "source": [
    "### Using Twitter APIs.\n",
    "In order to use Twitter APIs, you need two things: twitter account and twitter keys.\n",
    "\n",
    "Follow these instructions to get your keys:\n",
    "\n",
    "1. [Create a Twitter account](https://twitter.com).  You can use an existing account if you have one.\n",
    "2. [Create a Twitter developer account](https://dev.twitter.com/resources/signup).  Attach it to your Twitter account.\n",
    "3. Once you're logged into your developer account, [create an application for this assignment](https://apps.twitter.com/app/new).  You can call it whatever you want, and you can write any URL when it asks for a web site.\n",
    "4. On the page for that application, find your Consumer Key and Consumer Secret.\n",
    "5. On the same page, create an Access Token.  Record the resulting Access Token and Access Token Secret."
   ]
  },
  {
   "cell_type": "markdown",
   "metadata": {},
   "source": [
    "### Security concern\n",
    "Don’t share your access keys with anyone. Your access keys can be used to manage your account."
   ]
  },
  {
   "cell_type": "markdown",
   "metadata": {},
   "source": [
    "### Twitter API credentials\n",
    "Add your credential to your program. Again, don’t share these credentials with anyone."
   ]
  },
  {
   "cell_type": "code",
   "execution_count": 8,
   "metadata": {
    "collapsed": true
   },
   "outputs": [],
   "source": [
    "consumer_key = \"\"\n",
    "consumer_secret = \"\"\n",
    "access_key = \"\"\n",
    "access_secret = \"\"\n",
    "\n",
    "import tweepy\n",
    "auth = tweepy.OAuthHandler(consumer_key, consumer_secret)\n",
    "auth.set_access_token(access_key, access_secret)\n",
    "api = tweepy.API(auth)"
   ]
  },
  {
   "cell_type": "markdown",
   "metadata": {},
   "source": [
    "**Important note about rate limit**: Twitter APIs has a rate limit for every 15 minutes. Use your requests wisely to avoid unnecessary waiting time. The actual number of requests per window may be different based on the request, read more about Rate Limit."
   ]
  },
  {
   "cell_type": "markdown",
   "metadata": {
    "collapsed": true
   },
   "source": [
    "Now that everything is set up, we can use [search api](https://dev.twitter.com/rest/reference/get/search/tweets) to find the word Berkeley. This is the equivalent for this nice [page](https://twitter.com/search?q=berkeley)."
   ]
  },
  {
   "cell_type": "code",
   "execution_count": 7,
   "metadata": {
    "collapsed": true
   },
   "outputs": [],
   "source": [
    "# search all twitter\n",
    "results = tweepy.Cursor(api.search, \n",
    "                        q='Berkeley', # query, any word you want found in a tweet\n",
    "                        result_type = 'recent',\n",
    "                       ).items(10)"
   ]
  },
  {
   "cell_type": "markdown",
   "metadata": {},
   "source": [
    "The object `results` is a cursor, so you need to iterate through it to get the actual data."
   ]
  },
  {
   "cell_type": "code",
   "execution_count": 10,
   "metadata": {
    "collapsed": true
   },
   "outputs": [],
   "source": [
    "results_tweets = []\n",
    "\n",
    "for t in results:\n",
    "    results_tweets.append(t)"
   ]
  },
  {
   "cell_type": "markdown",
   "metadata": {},
   "source": [
    "We have a lot of data now. Let's see how much:"
   ]
  },
  {
   "cell_type": "code",
   "execution_count": 12,
   "metadata": {},
   "outputs": [
    {
     "name": "stdout",
     "output_type": "stream",
     "text": [
      "10\n"
     ]
    }
   ],
   "source": [
    "print(len(results_tweets))"
   ]
  },
  {
   "cell_type": "markdown",
   "metadata": {},
   "source": [
    "Now let's look at what the data looks like:"
   ]
  },
  {
   "cell_type": "code",
   "execution_count": 33,
   "metadata": {
    "collapsed": true
   },
   "outputs": [],
   "source": [
    "print(results_tweets)"
   ]
  },
  {
   "cell_type": "markdown",
   "metadata": {},
   "source": [
    "Let’s inspect the first tweet:"
   ]
  },
  {
   "cell_type": "code",
   "execution_count": 34,
   "metadata": {
    "collapsed": true
   },
   "outputs": [],
   "source": [
    "print(results_tweets[0])"
   ]
  },
  {
   "cell_type": "markdown",
   "metadata": {},
   "source": [
    "## Exploring the dataset\n",
    "Twitter gives us a lot of information about each tweet, not just its text. You can read the full documentation [here](https://dev.twitter.com/overview/api/tweets). Look at one tweet to get a sense of the information we have available."
   ]
  },
  {
   "cell_type": "markdown",
   "metadata": {},
   "source": [
    "#### Question 1\n",
    "Which fields contains:\n",
    "1. the actual text of a tweet,\n",
    "2. the time when the tweet was posted, \n",
    "3. the geographic location of the Tweet,\n",
    "4. the source (device and app) from which the tweet was posted?\n"
   ]
  },
  {
   "cell_type": "markdown",
   "metadata": {},
   "source": [
    "To answer the question, write functions that extract each field from a tweet. (Each one should take a single Status object as its argument.)"
   ]
  },
  {
   "cell_type": "code",
   "execution_count": 15,
   "metadata": {
    "scrolled": true
   },
   "outputs": [
    {
     "name": "stdout",
     "output_type": "stream",
     "text": [
      "2017-09-01 04:05:48\n",
      "\n",
      "RT @PrisonPlanet: Lesson...\n",
      "\n",
      "Hitting people with bike locks doesn't give you the moral high ground.\n",
      "\n",
      "It gives you 40 years jail time.\n",
      "\n",
      "http…\n",
      "\n",
      "4543\n",
      "\n",
      "[{'id_str': '18643437', 'name': 'Paul Joseph Watson', 'screen_name': 'PrisonPlanet', 'id': 18643437, 'indices': [3, 16]}]\n",
      "\n",
      "[]\n",
      "\n",
      "[]\n",
      "\n",
      "https://pbs.twimg.com/profile_images/900307482865672192/gcZEqdnP_normal.jpg\n",
      "\n",
      "None\n"
     ]
    }
   ],
   "source": [
    "print(results_tweets[0].created_at)\n",
    "print()\n",
    "print(results_tweets[0].text)\n",
    "print()\n",
    "print(results_tweets[0].retweet_count)\n",
    "print()\n",
    "print(results_tweets[0].entities['user_mentions'])\n",
    "print()\n",
    "print(results_tweets[0].entities['hashtags'])\n",
    "print()\n",
    "print(results_tweets[0].entities['urls'])\n",
    "print()\n",
    "print(results_tweets[0].user.profile_image_url_https)\n",
    "print()\n",
    "print(results_tweets[0].geo)"
   ]
  },
  {
   "cell_type": "markdown",
   "metadata": {},
   "source": [
    "**Answer**: \n",
    "1. \n",
    "2. \n",
    "3. \n",
    "4. "
   ]
  },
  {
   "cell_type": "markdown",
   "metadata": {},
   "source": [
    "Now, let’s gain some insight from the data. Get a list of retweet counts for all the tweets"
   ]
  },
  {
   "cell_type": "code",
   "execution_count": 17,
   "metadata": {},
   "outputs": [
    {
     "name": "stdout",
     "output_type": "stream",
     "text": [
      "[4543, 0, 1, 3214, 1054, 15, 1, 34, 0, 0]\n"
     ]
    }
   ],
   "source": [
    "retweet_counts = []\n",
    "\n",
    "for t in results_tweets:\n",
    "    retweet_counts.append(t.retweet_count)\n",
    "    \n",
    "print(retweet_counts)"
   ]
  },
  {
   "cell_type": "markdown",
   "metadata": {},
   "source": [
    "Let's try and draw it:"
   ]
  },
  {
   "cell_type": "code",
   "execution_count": 19,
   "metadata": {},
   "outputs": [
    {
     "data": {
      "image/png": "[encoded data removed]",
      "text/plain": [
       "<matplotlib.figure.Figure at 0x10b925b70>"
      ]
     },
     "metadata": {},
     "output_type": "display_data"
    }
   ],
   "source": [
    "import matplotlib.pyplot as plt\n",
    "plt.hist(retweet_counts)\n",
    "plt.show()"
   ]
  },
  {
   "cell_type": "markdown",
   "metadata": {},
   "source": [
    "Twitter search api provides three modes (check out this guide) for the result_type: mix, recent, and popular. In the previous code, we retrieved the popular tweets. \n",
    "Now it is your turn to retrieve recent 100 tweets and assign them to a new variable (e.g., results_recent100), then plot a histogram for the retweet count of the recent 100 tweets. \n"
   ]
  },
  {
   "cell_type": "markdown",
   "metadata": {},
   "source": [
    "#### Question 2 \n",
    "Compare and contrast between the two histograms for retweet counts of recent and popular 100 tweets that returns from searching the word Berkeley. \n"
   ]
  },
  {
   "cell_type": "markdown",
   "metadata": {},
   "source": [
    "**Answer**: "
   ]
  },
  {
   "cell_type": "markdown",
   "metadata": {},
   "source": [
    "#### Question 3.\n",
    "Twitter search api has an option to limit the search by geo location. The parameter value is specified by ”latitude,longitude,radius”. Compare the top 10 popular tweets text from four geo locations: Berkeley, Kansas City, New York, and Barcelona Spain.\n"
   ]
  },
  {
   "cell_type": "markdown",
   "metadata": {},
   "source": [
    "**Answer**: "
   ]
  },
  {
   "cell_type": "markdown",
   "metadata": {},
   "source": [
    "### User handles\n",
    "Instead of searching for tweets, you can use Twitter APIs to get details about specific user account. It includes user’s timeline, followers, etc.\n",
    "\n",
    "Get the latest 10 tweets from an account that interests you (e.g.,  UCBerkeley) twitter account using the following code."
   ]
  },
  {
   "cell_type": "code",
   "execution_count": 20,
   "metadata": {
    "collapsed": true
   },
   "outputs": [],
   "source": [
    "handle_results = api.user_timeline(screen_name='UCBerkeley', count=10)\n",
    "\n",
    "handle_results_tweets = []\n",
    "\n",
    "for t in handle_results:\n",
    "    handle_results_tweets.append(t)"
   ]
  },
  {
   "cell_type": "code",
   "execution_count": 21,
   "metadata": {},
   "outputs": [
    {
     "name": "stdout",
     "output_type": "stream",
     "text": [
      "2017-Sep-01 03:02\n",
      "NEXT WEEK: 50 years of protest photos to open @ucbsoj https://t.co/A6pvEsWERd j https://t.co/GQzQ4Ptybf\n",
      "\n",
      "2017-Sep-01 02:07\n",
      "Distant galaxy sends out 15 high-energy radio bursts https://t.co/v01bqRNumR https://t.co/BY99a6IDk9\n",
      "\n",
      "2017-Sep-01 01:03\n",
      "BLOG: On sexism in economics https://t.co/AlzpF6SqWT https://t.co/SjwTRyZRGb\n",
      "\n",
      "2017-Aug-31 23:54\n",
      "RT @berkeleyforum: Join us tonight at 6:00 PM in 112 Wurster as The Berkeley Forum hosts new Chancellor Carol Christ. https://t.co/ZTYYHAVM…\n",
      "\n",
      "2017-Aug-31 22:04\n",
      "BLOG: Working outside the #tech bubble https://t.co/8jgkESKfuD #startup https://t.co/51jJkuoh27\n",
      "\n",
      "2017-Aug-31 19:02\n",
      "BLOG: #Houston, we all have a problem https://t.co/bd3ODC2oQT #Harvey https://t.co/YVpuXhr9mQ\n",
      "\n",
      "2017-Aug-31 17:02\n",
      "FRIDAY: Campus memorial Friday for chief counsel Chris Patti https://t.co/TGNfellJUg https://t.co/DxYQEeAGt5\n",
      "\n",
      "2017-Aug-31 16:04\n",
      "Girls’ #STEM camp connects with campus https://t.co/b2UrYFdleK #girlsinstem https://t.co/VJQO9Omlwd\n",
      "\n",
      "2017-Aug-31 07:04\n",
      "More than a decade in the works, Chou Hall is now open to students — it may be the #green-est ever!… https://t.co/AraUVYdris\n",
      "\n",
      "2017-Aug-31 03:02\n",
      "STUDENTS:  👀 for a class to add? @BerkeleyGuide lists open, high-interest, undergrad classes rec'd by depts &amp; faculty #checkitout\n",
      "\n"
     ]
    }
   ],
   "source": [
    "#print the test of the first 10 tweets\n",
    "for t in handle_results_tweets:\n",
    "    print(t.created_at.strftime(\"%Y-%b-%d %H:%M\"))\n",
    "    print(t.text)\n",
    "    print()"
   ]
  },
  {
   "cell_type": "markdown",
   "metadata": {},
   "source": [
    "#### Question 4\n",
    "Look at the text of retrieved tweets and compare them to the latest 10 tweets of the [web interface](https://twitter.com/UCBerkeley) for the same user. Do you see any difference? "
   ]
  },
  {
   "cell_type": "markdown",
   "metadata": {},
   "source": [
    "**Answer**: "
   ]
  },
  {
   "cell_type": "markdown",
   "metadata": {},
   "source": [
    "Get a list of a followers for UCBerkeley."
   ]
  },
  {
   "cell_type": "code",
   "execution_count": 40,
   "metadata": {
    "scrolled": false
   },
   "outputs": [
    {
     "ename": "NameError",
     "evalue": "name 'i' is not defined",
     "output_type": "error",
     "traceback": [
      "\u001b[0;31m---------------------------------------------------------------------------\u001b[0m",
      "\u001b[0;31mNameError\u001b[0m                                 Traceback (most recent call last)",
      "\u001b[0;32m<ipython-input-40-9b38d1c4c3ae>\u001b[0m in \u001b[0;36m<module>\u001b[0;34m()\u001b[0m\n\u001b[1;32m      1\u001b[0m \u001b[0mfollowers_list\u001b[0m \u001b[0;34m=\u001b[0m \u001b[0;34m[\u001b[0m\u001b[0;34m]\u001b[0m\u001b[0;34m\u001b[0m\u001b[0m\n\u001b[1;32m      2\u001b[0m \u001b[0;34m\u001b[0m\u001b[0m\n\u001b[0;32m----> 3\u001b[0;31m \u001b[0mfollowers_results\u001b[0m \u001b[0;34m=\u001b[0m \u001b[0mapi\u001b[0m\u001b[0;34m.\u001b[0m\u001b[0mfollowers\u001b[0m\u001b[0;34m(\u001b[0m\u001b[0mscreen_name\u001b[0m\u001b[0;34m=\u001b[0m\u001b[0;34m'UCBerkeley'\u001b[0m\u001b[0;34m,\u001b[0m \u001b[0mcount\u001b[0m\u001b[0;34m=\u001b[0m\u001b[0;36m200\u001b[0m\u001b[0;34m,\u001b[0m \u001b[0mpage\u001b[0m\u001b[0;34m=\u001b[0m\u001b[0mi\u001b[0m\u001b[0;34m)\u001b[0m\u001b[0;34m\u001b[0m\u001b[0m\n\u001b[0m\u001b[1;32m      4\u001b[0m \u001b[0;32mfor\u001b[0m \u001b[0mf\u001b[0m \u001b[0;32min\u001b[0m \u001b[0mhandle_results\u001b[0m\u001b[0;34m:\u001b[0m\u001b[0;34m\u001b[0m\u001b[0m\n\u001b[1;32m      5\u001b[0m       \u001b[0mfollowers_list\u001b[0m\u001b[0;34m.\u001b[0m\u001b[0mappend\u001b[0m\u001b[0;34m(\u001b[0m\u001b[0mf\u001b[0m\u001b[0;34m)\u001b[0m\u001b[0;34m\u001b[0m\u001b[0m\n",
      "\u001b[0;31mNameError\u001b[0m: name 'i' is not defined"
     ]
    }
   ],
   "source": [
    "followers_list = []\n",
    "\n",
    "followers_results = api.followers(screen_name='UCBerkeley', count=200, page=i)\n",
    "for f in handle_results:\n",
    "      followers_list.append(f)\n",
    "\n",
    "for f in followers_list:\n",
    "    print(f.name)"
   ]
  },
  {
   "cell_type": "markdown",
   "metadata": {},
   "source": [
    "There’s a limit on how many users can be returned by one request. If you need more, please read [using cursors to navigate collections](https://dev.twitter.com/overview/api/cursoring)."
   ]
  },
  {
   "cell_type": "markdown",
   "metadata": {},
   "source": [
    "#### Bonus Question\n",
    "Based on profile_location in the follower data, draw a map for both followers lists for Donald Trump and Hillary Clinton. \n"
   ]
  },
  {
   "cell_type": "code",
   "execution_count": null,
   "metadata": {
    "collapsed": true
   },
   "outputs": [],
   "source": []
  },
  {
   "cell_type": "markdown",
   "metadata": {},
   "source": [
    "### Submitting the assignment\n",
    "\n",
    "- Delete your Twitter API credentials, ie. re-assign `consumer_key`, `consumer_secret`, `access_key`, and `access_secret` to empty strings so that we won't see your credentials when you save and sumbit it.\n",
    "- Save this jupyter notebook as a pdf. Click File, Download as, PDF via LaTex (.pdf).\n",
    "- Upload the pdf file into bcourses under Assignment 2."
   ]
  }
 ],
 "metadata": {
  "kernelspec": {
   "display_name": "Python 3",
   "language": "python",
   "name": "python3"
  },
  "language_info": {
   "codemirror_mode": {
    "name": "ipython",
    "version": 3
   },
   "file_extension": ".py",
   "mimetype": "text/x-python",
   "name": "python",
   "nbconvert_exporter": "python",
   "pygments_lexer": "ipython3",
   "version": "3.6.1"
  }
 },
 "nbformat": 4,
 "nbformat_minor": 1
}
