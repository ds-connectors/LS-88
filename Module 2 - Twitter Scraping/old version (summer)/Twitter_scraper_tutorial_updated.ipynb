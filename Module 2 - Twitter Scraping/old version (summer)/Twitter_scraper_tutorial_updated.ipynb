{
 "cells": [
  {
   "cell_type": "markdown",
   "metadata": {},
   "source": [
    "### Before Starting\n",
    "This is a tutorial that teaches basic aspects of the use of python's `twitter` package to extract and analyse tweets. In the tutorial we focus on the use of emojis. We will first describe how to extract data from the twitter API, then describe detection of emojis and lastly perform some preliminary analysis. \n",
    "\n",
    "If you have not already, from terminal, run `pip install twitter` to download python's twitter package."
   ]
  },
  {
   "cell_type": "code",
   "execution_count": 30,
   "metadata": {
    "collapsed": true
   },
   "outputs": [],
   "source": [
    "%matplotlib inline\n",
    "from datascience import *\n",
    "import numpy as np\n",
    "import matplotlib.pyplot as plt\n",
    "import twitter"
   ]
  },
  {
   "cell_type": "markdown",
   "metadata": {},
   "source": [
    "Now, log into your twitter account, head to https://dev.twitter.com/apps, and create a new app. This is required to gain API access on twitter. The $4$ blurred fields are required for the package to gain access to Twitter API ie: to make calls to the API. Be sure not to share your access keys with others as they are unique to your twitter account.\n",
    "<img src=\"./twitter_settings.png\" style=\"width: 600px;\"/>\n",
    "In the next cell, fill in the values corresponding to the blurred fields from your app. We can then begin accessing the API and running analysis through your app."
   ]
  },
  {
   "cell_type": "code",
   "execution_count": null,
   "metadata": {
    "collapsed": true
   },
   "outputs": [],
   "source": [
    "CONSUMER_KEY = ''\n",
    "CONSUMER_SECRET = ''\n",
    "OAUTH_TOKEN = ''\n",
    "OAUTH_TOKEN_SECRET = ''\n",
    "\n",
    "auth = twitter.oauth.OAuth(OAUTH_TOKEN, OAUTH_TOKEN_SECRET,\n",
    "                           CONSUMER_KEY, CONSUMER_SECRET)\n",
    "\n",
    "# Create a connection to the api\n",
    "\n",
    "twitter_api = twitter.Twitter(auth=auth)\n",
    "\n",
    "# Nothing to see by displaying twitter_api except that it's now a \n",
    "# defined variable\n",
    "\n",
    "print(twitter_api)"
   ]
  },
  {
   "cell_type": "markdown",
   "metadata": {},
   "source": [
    "If the above outcome looks something like `<twitter.api.Twitter object at 0x1165df908>`, that means we have created a connection without error."
   ]
  },
  {
   "cell_type": "markdown",
   "metadata": {},
   "source": [
    "### Pulling Tweets using search\n",
    "Now we can parse the results of a search query on twitter. In the string query, feel free to play around with the value. For the purpose of the tutorial, we have used '#nobanonwall'. If you do try to experiment, note that this function is valid only on terms that would be valid through twitter.com/search.\n",
    "\n",
    "Make sure not to put too large a value for count. For values ~$100000$, the query could take very long to run. Here, we have kept it at $100$ and the cell should run in less than a second.\n",
    "\n",
    "Run the cell below to understand the format of the results.\n",
    "\n",
    "The result is a JSON (JavaScript Object Notation) object. You can think of it as a dictionary in python. `search_results` is a dictionary containing `statuses`, which is a list of dictionaries, each one corresponding to a different tweet containing the search term '#nobanonwall'."
   ]
  },
  {
   "cell_type": "code",
   "execution_count": null,
   "metadata": {
    "collapsed": true,
    "scrolled": true
   },
   "outputs": [],
   "source": [
    "query = \"#nobannowall\"\n",
    "count = 100\n",
    "\n",
    "# q contains the query to search for and count is the limit to the \n",
    "# number of results we are interested in\n",
    "search_results = twitter_api.search.tweets(q=query, count=count)\n",
    "\n",
    "statuses = search_results['statuses']\n",
    "\n",
    "# Display an example result format\n",
    "statuses[0]"
   ]
  },
  {
   "cell_type": "markdown",
   "metadata": {},
   "source": [
    "Within each `status`, the keys correspond to data regarding the tweet. Let's try to extract some relevant data into a Table containing information regarding text, date and time posted, screen name of poster and number of retweets.\n",
    "\n",
    "To do this, lets first write a function that takes in a tweet and returns an array consisting of this information corresponding to that tweet. Feel free to include more information if you'd like. Make sure you pick the correct path from the JSON object you viewed earlier."
   ]
  },
  {
   "cell_type": "code",
   "execution_count": null,
   "metadata": {
    "collapsed": true
   },
   "outputs": [],
   "source": [
    "# t is the tweet passed in in the same format as displayed above\n",
    "\n",
    "def get_data_from_tweet(t):\n",
    "    text = t['text']\n",
    "    date_time = t['created_at']\n",
    "    name = t['user']['screen_name']\n",
    "    rt_count = t['retweet_count']\n",
    "    return [name, date_time, text, rt_count]\n",
    "\n",
    "# Test if it works on statuses[0]\n",
    "\n",
    "get_data_from_tweet(statuses[0])"
   ]
  },
  {
   "cell_type": "markdown",
   "metadata": {},
   "source": [
    "Now that we have a function that extracts the relevant data from $1$ tweet, let's apply this function on all the tweets we have and we will then have an array of rows for our table.\n",
    "\n",
    "Using this array, we can define our Table called Tweets. The output should look something like:\n",
    "<img src=\"./TweetsTable.png\" style=\"width: 600px;\"/>"
   ]
  },
  {
   "cell_type": "code",
   "execution_count": null,
   "metadata": {
    "collapsed": true
   },
   "outputs": [],
   "source": [
    "tweets = np.array([get_data_from_tweet(status) for status in statuses])\n",
    "\n",
    "Tweets = Table(['User', 'Time Posted', 'Text', 'Retweet Count']).with_rows(tweets)\n",
    "\n",
    "Tweets"
   ]
  },
  {
   "cell_type": "markdown",
   "metadata": {},
   "source": [
    "### Emoji Usage Analysis\n",
    "Now, we will restrict our analysis to the Table Final_Tweets, which contains tweets posted on Jan 28th or 29th containing one or more of the following hashtags: #NoBanNoWall, #NoMuslimBan, #NotMyPresident, #TheResistance or #WomensMarch. Within these, duplicate names/urls were removed. These tweets were gathered using the method above. They were extracted, removed if duplicate and then saved into a `csv` file.\n",
    "\n",
    "We've also imported the emoji dataset, which contains data regarding $842$ emojis, so as to recognize them in the tweets."
   ]
  },
  {
   "cell_type": "code",
   "execution_count": 2,
   "metadata": {},
   "outputs": [
    {
     "data": {
      "text/html": [
       "<table border=\"1\" class=\"dataframe\">\n",
       "    <thead>\n",
       "        <tr>\n",
       "            <th>text</th> <th>created</th> <th>url</th> <th>latitude</th> <th>longitude</th> <th>retweets</th> <th>hashtag</th> <th>username</th> <th>z</th> <th>tweetid</th>\n",
       "        </tr>\n",
       "    </thead>\n",
       "    <tbody>\n",
       "        <tr>\n",
       "            <td>police wont explain themselves. #NoBanNoWall https://t.c ...</td> <td>2017-01-28 23:53:13</td> <td>https://twitter.com/______ada/status/825491956373585921     </td> <td>nan     </td> <td>nan      </td> <td>0       </td> <td>#nobannowall</td> <td>______ada      </td> <td>1   </td> <td>1      </td>\n",
       "        </tr>\n",
       "    </tbody>\n",
       "        <tr>\n",
       "            <td>I need to go protest. #NoBanNoWall                          </td> <td>2017-01-29 23:26:42</td> <td>https://twitter.com/______JV/status/825847671248265216      </td> <td>nan     </td> <td>nan      </td> <td>0       </td> <td>#nobannowall</td> <td>______JV       </td> <td>1   </td> <td>2      </td>\n",
       "        </tr>\n",
       "    </tbody>\n",
       "        <tr>\n",
       "            <td>@GOP nonfeasance is damning. Do something for humanity.  ...</td> <td>2017-01-28 23:59:55</td> <td>https://twitter.com/___jackbudi/status/825493641439350787   </td> <td>nan     </td> <td>nan      </td> <td>0       </td> <td>#nobannowall</td> <td>___jackbudi    </td> <td>1   </td> <td>3      </td>\n",
       "        </tr>\n",
       "    </tbody>\n",
       "        <tr>\n",
       "            <td>This is wrong. Childish, mean, dangerous, backward, dama ...</td> <td>2017-01-28 17:14:22</td> <td>https://twitter.com/__0I0__/status/825391582048247808       </td> <td>nan     </td> <td>nan      </td> <td>0       </td> <td>#nobannowall</td> <td>__0I0__        </td> <td>1   </td> <td>4      </td>\n",
       "        </tr>\n",
       "    </tbody>\n",
       "        <tr>\n",
       "            <td>Scenes from earlier today outside Trump's DC hotel. #NoB ...</td> <td>2017-01-29 21:35:10</td> <td>https://twitter.com/__arshan/status/825819598834507776      </td> <td>nan     </td> <td>nan      </td> <td>0       </td> <td>#nobannowall</td> <td>__arshan       </td> <td>1   </td> <td>5      </td>\n",
       "        </tr>\n",
       "    </tbody>\n",
       "        <tr>\n",
       "            <td>How in the hell do you ban a whole group of people from  ...</td> <td>2017-01-28 23:01:32</td> <td>https://twitter.com/__blowCeeKisses/status/8254789486792 ...</td> <td>nan     </td> <td>nan      </td> <td>0       </td> <td>#nobannowall</td> <td>__blowCeeKisses</td> <td>1   </td> <td>6      </td>\n",
       "        </tr>\n",
       "    </tbody>\n",
       "        <tr>\n",
       "            <td>@realDonaldTrump #MuslimBan here #DumpTrump #NoBanNoWall ...</td> <td>2017-01-29 21:51:13</td> <td>https://twitter.com/__catch_/status/825823640516251648      </td> <td>nan     </td> <td>nan      </td> <td>0       </td> <td>#nobannowall</td> <td>__catch_       </td> <td>1   </td> <td>7      </td>\n",
       "        </tr>\n",
       "    </tbody>\n",
       "        <tr>\n",
       "            <td>Thank you @NydiaVelazquez !! Thank you!! #NoBanNoWall #R ...</td> <td>2017-01-28 19:55:39</td> <td>https://twitter.com/__Chimaera/status/825432167891292160    </td> <td>nan     </td> <td>nan      </td> <td>0       </td> <td>#nobannowall</td> <td>__Chimaera     </td> <td>1   </td> <td>8      </td>\n",
       "        </tr>\n",
       "    </tbody>\n",
       "        <tr>\n",
       "            <td>This is in #Idaho! <e2><9d><a4><ed><a0><bc><ed><b7><ba>< ...</td> <td>2017-01-29 23:00:24</td> <td>https://twitter.com/__EqualRights__/status/8258410505310 ...</td> <td>nan     </td> <td>nan      </td> <td>0       </td> <td>#nobannowall</td> <td>__EqualRights__</td> <td>1   </td> <td>9      </td>\n",
       "        </tr>\n",
       "    </tbody>\n",
       "        <tr>\n",
       "            <td>We stand with you #NoBanNoWall https://t.co/jC4vsLZoHs      </td> <td>2017-01-29 22:51:44</td> <td>https://twitter.com/__faithb/status/825838867760680964      </td> <td>nan     </td> <td>nan      </td> <td>0       </td> <td>#nobannowall</td> <td>__faithb       </td> <td>1   </td> <td>10     </td>\n",
       "        </tr>\n",
       "    </tbody>\n",
       "</table>\n",
       "<p>... (57542 rows omitted)</p"
      ],
      "text/plain": [
       "text                                                         | created             | url                                                          | latitude | longitude | retweets | hashtag      | username        | z    | tweetid\n",
       "police wont explain themselves. #NoBanNoWall https://t.c ... | 2017-01-28 23:53:13 | https://twitter.com/______ada/status/825491956373585921      | nan      | nan       | 0        | #nobannowall | ______ada       | 1    | 1\n",
       "I need to go protest. #NoBanNoWall                           | 2017-01-29 23:26:42 | https://twitter.com/______JV/status/825847671248265216       | nan      | nan       | 0        | #nobannowall | ______JV        | 1    | 2\n",
       "@GOP nonfeasance is damning. Do something for humanity.  ... | 2017-01-28 23:59:55 | https://twitter.com/___jackbudi/status/825493641439350787    | nan      | nan       | 0        | #nobannowall | ___jackbudi     | 1    | 3\n",
       "This is wrong. Childish, mean, dangerous, backward, dama ... | 2017-01-28 17:14:22 | https://twitter.com/__0I0__/status/825391582048247808        | nan      | nan       | 0        | #nobannowall | __0I0__         | 1    | 4\n",
       "Scenes from earlier today outside Trump's DC hotel. #NoB ... | 2017-01-29 21:35:10 | https://twitter.com/__arshan/status/825819598834507776       | nan      | nan       | 0        | #nobannowall | __arshan        | 1    | 5\n",
       "How in the hell do you ban a whole group of people from  ... | 2017-01-28 23:01:32 | https://twitter.com/__blowCeeKisses/status/8254789486792 ... | nan      | nan       | 0        | #nobannowall | __blowCeeKisses | 1    | 6\n",
       "@realDonaldTrump #MuslimBan here #DumpTrump #NoBanNoWall ... | 2017-01-29 21:51:13 | https://twitter.com/__catch_/status/825823640516251648       | nan      | nan       | 0        | #nobannowall | __catch_        | 1    | 7\n",
       "Thank you @NydiaVelazquez !! Thank you!! #NoBanNoWall #R ... | 2017-01-28 19:55:39 | https://twitter.com/__Chimaera/status/825432167891292160     | nan      | nan       | 0        | #nobannowall | __Chimaera      | 1    | 8\n",
       "This is in #Idaho! <e2><9d><a4><ed><a0><bc><ed><b7><ba>< ... | 2017-01-29 23:00:24 | https://twitter.com/__EqualRights__/status/8258410505310 ... | nan      | nan       | 0        | #nobannowall | __EqualRights__ | 1    | 9\n",
       "We stand with you #NoBanNoWall https://t.co/jC4vsLZoHs       | 2017-01-29 22:51:44 | https://twitter.com/__faithb/status/825838867760680964       | nan      | nan       | 0        | #nobannowall | __faithb        | 1    | 10\n",
       "... (57542 rows omitted)"
      ]
     },
     "execution_count": 2,
     "metadata": {},
     "output_type": "execute_result"
    }
   ],
   "source": [
    "Final_Tweets = Table.read_table(\"./tutorial_tweets.csv\")\n",
    "Final_Tweets"
   ]
  },
  {
   "cell_type": "code",
   "execution_count": 3,
   "metadata": {
    "scrolled": false
   },
   "outputs": [
    {
     "data": {
      "text/html": [
       "<table border=\"1\" class=\"dataframe\">\n",
       "    <thead>\n",
       "        <tr>\n",
       "            <th>Description</th> <th>Native</th> <th>Bytes</th> <th>String Representation</th>\n",
       "        </tr>\n",
       "    </thead>\n",
       "    <tbody>\n",
       "        <tr>\n",
       "            <td>AERIAL TRAMWAY   </td> <td>🚡     </td> <td>\\xF0\\x9F\\x9A\\xA1</td> <td><ed><a0><bd><ed><ba><a1></td>\n",
       "        </tr>\n",
       "    </tbody>\n",
       "        <tr>\n",
       "            <td>AIRPLANE         </td> <td>✈     </td> <td>\\xE2\\x9C\\x88    </td> <td><e2><9c><88>            </td>\n",
       "        </tr>\n",
       "    </tbody>\n",
       "        <tr>\n",
       "            <td>ALARM CLOCK      </td> <td>⏰     </td> <td>\\xE2\\x8F\\xB0    </td> <td><e2><8f><b0>            </td>\n",
       "        </tr>\n",
       "    </tbody>\n",
       "        <tr>\n",
       "            <td>ALIEN MONSTER    </td> <td>👾     </td> <td>\\xF0\\x9F\\x91\\xBE</td> <td><ed><a0><bd><ed><b1><be></td>\n",
       "        </tr>\n",
       "    </tbody>\n",
       "        <tr>\n",
       "            <td>AMBULANCE        </td> <td>🚑     </td> <td>\\xF0\\x9F\\x9A\\x91</td> <td><ed><a0><bd><ed><ba><91></td>\n",
       "        </tr>\n",
       "    </tbody>\n",
       "        <tr>\n",
       "            <td>AMERICAN FOOTBALL</td> <td>🏈     </td> <td>\\xF0\\x9F\\x8F\\x88</td> <td><ed><a0><bc><ed><bf><88></td>\n",
       "        </tr>\n",
       "    </tbody>\n",
       "        <tr>\n",
       "            <td>ANCHOR           </td> <td>⚓     </td> <td>\\xE2\\x9A\\x93    </td> <td><e2><9a><93>            </td>\n",
       "        </tr>\n",
       "    </tbody>\n",
       "        <tr>\n",
       "            <td>ANGER SYMBOL     </td> <td>💢     </td> <td>\\xF0\\x9F\\x92\\xA2</td> <td><ed><a0><bd><ed><b2><a2></td>\n",
       "        </tr>\n",
       "    </tbody>\n",
       "        <tr>\n",
       "            <td>ANGRY FACE       </td> <td>😠     </td> <td>\\xF0\\x9F\\x98\\xA0</td> <td><ed><a0><bd><ed><b8><a0></td>\n",
       "        </tr>\n",
       "    </tbody>\n",
       "        <tr>\n",
       "            <td>ANGUISHED FACE   </td> <td>😧     </td> <td>\\xF0\\x9F\\x98\\xA7</td> <td><ed><a0><bd><ed><b8><a7></td>\n",
       "        </tr>\n",
       "    </tbody>\n",
       "</table>\n",
       "<p>... (832 rows omitted)</p"
      ],
      "text/plain": [
       "Description       | Native | Bytes            | String Representation\n",
       "AERIAL TRAMWAY    | 🚡      | \\xF0\\x9F\\x9A\\xA1 | <ed><a0><bd><ed><ba><a1>\n",
       "AIRPLANE          | ✈      | \\xE2\\x9C\\x88     | <e2><9c><88>\n",
       "ALARM CLOCK       | ⏰      | \\xE2\\x8F\\xB0     | <e2><8f><b0>\n",
       "ALIEN MONSTER     | 👾      | \\xF0\\x9F\\x91\\xBE | <ed><a0><bd><ed><b1><be>\n",
       "AMBULANCE         | 🚑      | \\xF0\\x9F\\x9A\\x91 | <ed><a0><bd><ed><ba><91>\n",
       "AMERICAN FOOTBALL | 🏈      | \\xF0\\x9F\\x8F\\x88 | <ed><a0><bc><ed><bf><88>\n",
       "ANCHOR            | ⚓      | \\xE2\\x9A\\x93     | <e2><9a><93>\n",
       "ANGER SYMBOL      | 💢      | \\xF0\\x9F\\x92\\xA2 | <ed><a0><bd><ed><b2><a2>\n",
       "ANGRY FACE        | 😠      | \\xF0\\x9F\\x98\\xA0 | <ed><a0><bd><ed><b8><a0>\n",
       "ANGUISHED FACE    | 😧      | \\xF0\\x9F\\x98\\xA7 | <ed><a0><bd><ed><b8><a7>\n",
       "... (832 rows omitted)"
      ]
     },
     "execution_count": 3,
     "metadata": {},
     "output_type": "execute_result"
    }
   ],
   "source": [
    "emojis = Table.read_table(\"./complete_emoji.csv\")\n",
    "emojis = emojis.relabel('R-encoding', 'String Representation')\n",
    "\n",
    "emojis"
   ]
  },
  {
   "cell_type": "markdown",
   "metadata": {},
   "source": [
    "Next, we compute how many tweets each emoji appears in and then rank each emoji. Since this requires checking the presence of $842$ emojis in $57552$ tweets, it'll take a while to run. But, with the help of vectorization and use of parallel computing present in the `datasciences` package, we can speed up computation. It still takes about $2$ mins to run though."
   ]
  },
  {
   "cell_type": "code",
   "execution_count": 4,
   "metadata": {
    "collapsed": true
   },
   "outputs": [],
   "source": [
    "# Here we are first looking at each tweet, within the tweet we are computing a boolean array on whether or not the ith\n",
    "# emoji is present in the ith tweet. Then, we take the sum of that array as the number of emojis present in that tweet,\n",
    "# excluding duplicates.\n",
    "\n",
    "emojis['count'] = np.sum(Final_Tweets.apply(lambda y : emojis.apply(lambda x : x in y, 'String Representation')\\\n",
    "                               , 'text'), axis = 0)"
   ]
  },
  {
   "cell_type": "code",
   "execution_count": 5,
   "metadata": {
    "collapsed": true
   },
   "outputs": [],
   "source": [
    "# To compute rank, we first run an argsort, which returns an array of the indices that correspond to the rank.\n",
    "# ie: args[0] is the index of the tweet with the least number of emojis.\n",
    "\n",
    "args = np.argsort(emojis['count'])\n",
    "\n",
    "# To get an array with the ranks, we need to keep it in descending order and choose the correct value corresponding\n",
    "# to args\n",
    "\n",
    "arr = np.zeros(len(args))\n",
    "\n",
    "for i in np.arange(len(args), 0, -1):\n",
    "    arr[args[i - 1]] = 843 - i # We choose 843 since the values are 0-indexed\n",
    "\n",
    "emojis['rank'] = arr"
   ]
  },
  {
   "cell_type": "code",
   "execution_count": 6,
   "metadata": {},
   "outputs": [
    {
     "data": {
      "text/html": [
       "<table border=\"1\" class=\"dataframe\">\n",
       "    <thead>\n",
       "        <tr>\n",
       "            <th>Description</th> <th>Native</th> <th>Bytes</th> <th>String Representation</th> <th>count</th> <th>rank</th>\n",
       "        </tr>\n",
       "    </thead>\n",
       "    <tbody>\n",
       "        <tr>\n",
       "            <td>RAISED FIST                                                 </td> <td>✊     </td> <td>\\xE2\\x9C\\x8A                    </td> <td><e2><9c><8a>                                    </td> <td>400  </td> <td>1   </td>\n",
       "        </tr>\n",
       "    </tbody>\n",
       "        <tr>\n",
       "            <td>HEAVY BLACK HEART                                           </td> <td>❤     </td> <td>\\xE2\\x9D\\xA4                    </td> <td><e2><9d><a4>                                    </td> <td>372  </td> <td>2   </td>\n",
       "        </tr>\n",
       "    </tbody>\n",
       "        <tr>\n",
       "            <td>REGIONAL INDICATOR SYMBOL LETTER U + REGIONAL INDICATOR  ...</td> <td>🇺🇸    </td> <td>\\xF0\\x9F\\x87\\xBA\\xF0\\x9F\\x87\\xB8</td> <td><ed><a0><bc><ed><b7><ba><ed><a0><bc><ed><b7><b8></td> <td>332  </td> <td>3   </td>\n",
       "        </tr>\n",
       "    </tbody>\n",
       "        <tr>\n",
       "            <td>FACE WITH TEARS OF JOY                                      </td> <td>😂     </td> <td>\\xF0\\x9F\\x98\\x82                </td> <td><ed><a0><bd><ed><b8><82>                        </td> <td>174  </td> <td>4   </td>\n",
       "        </tr>\n",
       "    </tbody>\n",
       "        <tr>\n",
       "            <td>POUTING FACE                                                </td> <td>😡     </td> <td>\\xF0\\x9F\\x98\\xA1                </td> <td><ed><a0><bd><ed><b8><a1>                        </td> <td>119  </td> <td>5   </td>\n",
       "        </tr>\n",
       "    </tbody>\n",
       "        <tr>\n",
       "            <td>CLAPPING HANDS SIGN                                         </td> <td>👏     </td> <td>\\xF0\\x9F\\x91\\x8F                </td> <td><ed><a0><bd><ed><b1><8f>                        </td> <td>110  </td> <td>6   </td>\n",
       "        </tr>\n",
       "    </tbody>\n",
       "        <tr>\n",
       "            <td>FLEXED BICEPS                                               </td> <td>💪     </td> <td>\\xF0\\x9F\\x92\\xAA                </td> <td><ed><a0><bd><ed><b2><aa>                        </td> <td>94   </td> <td>7   </td>\n",
       "        </tr>\n",
       "    </tbody>\n",
       "        <tr>\n",
       "            <td>WHITE DOWN POINTING BACKHAND INDEX                          </td> <td>👇     </td> <td>\\xF0\\x9F\\x91\\x87                </td> <td><ed><a0><bd><ed><b1><87>                        </td> <td>91   </td> <td>8   </td>\n",
       "        </tr>\n",
       "    </tbody>\n",
       "        <tr>\n",
       "            <td>FISTED HAND SIGN                                            </td> <td>👊     </td> <td>\\xF0\\x9F\\x91\\x8A                </td> <td><ed><a0><bd><ed><b1><8a>                        </td> <td>84   </td> <td>9   </td>\n",
       "        </tr>\n",
       "    </tbody>\n",
       "        <tr>\n",
       "            <td>VICTORY HAND                                                </td> <td>✌     </td> <td>\\xE2\\x9C\\x8C                    </td> <td><e2><9c><8c>                                    </td> <td>75   </td> <td>10  </td>\n",
       "        </tr>\n",
       "    </tbody>\n",
       "</table>\n",
       "<p>... (832 rows omitted)</p"
      ],
      "text/plain": [
       "Description                                                  | Native | Bytes                            | String Representation                            | count | rank\n",
       "RAISED FIST                                                  | ✊      | \\xE2\\x9C\\x8A                     | <e2><9c><8a>                                     | 400   | 1\n",
       "HEAVY BLACK HEART                                            | ❤      | \\xE2\\x9D\\xA4                     | <e2><9d><a4>                                     | 372   | 2\n",
       "REGIONAL INDICATOR SYMBOL LETTER U + REGIONAL INDICATOR  ... | 🇺🇸     | \\xF0\\x9F\\x87\\xBA\\xF0\\x9F\\x87\\xB8 | <ed><a0><bc><ed><b7><ba><ed><a0><bc><ed><b7><b8> | 332   | 3\n",
       "FACE WITH TEARS OF JOY                                       | 😂      | \\xF0\\x9F\\x98\\x82                 | <ed><a0><bd><ed><b8><82>                         | 174   | 4\n",
       "POUTING FACE                                                 | 😡      | \\xF0\\x9F\\x98\\xA1                 | <ed><a0><bd><ed><b8><a1>                         | 119   | 5\n",
       "CLAPPING HANDS SIGN                                          | 👏      | \\xF0\\x9F\\x91\\x8F                 | <ed><a0><bd><ed><b1><8f>                         | 110   | 6\n",
       "FLEXED BICEPS                                                | 💪      | \\xF0\\x9F\\x92\\xAA                 | <ed><a0><bd><ed><b2><aa>                         | 94    | 7\n",
       "WHITE DOWN POINTING BACKHAND INDEX                           | 👇      | \\xF0\\x9F\\x91\\x87                 | <ed><a0><bd><ed><b1><87>                         | 91    | 8\n",
       "FISTED HAND SIGN                                             | 👊      | \\xF0\\x9F\\x91\\x8A                 | <ed><a0><bd><ed><b1><8a>                         | 84    | 9\n",
       "VICTORY HAND                                                 | ✌      | \\xE2\\x9C\\x8C                     | <e2><9c><8c>                                     | 75    | 10\n",
       "... (832 rows omitted)"
      ]
     },
     "execution_count": 6,
     "metadata": {},
     "output_type": "execute_result"
    }
   ],
   "source": [
    "# Visulalize the table and which emojis are the most popular\n",
    "emojis.sort('count', descending = True)"
   ]
  },
  {
   "cell_type": "markdown",
   "metadata": {},
   "source": [
    "### Visualising Emojis\n",
    "The simplest and most elegant way to visualize categorical data is through a bar graph. Let us create a table `top10` that contains the $10$ most tweeted emojis in our dataset along with their `count` and `rank` values.\n",
    "\n",
    "Visualize the tweet counts of these emojis using a bar graph."
   ]
  },
  {
   "cell_type": "code",
   "execution_count": 7,
   "metadata": {
    "collapsed": true
   },
   "outputs": [],
   "source": [
    "top10 = emojis.where('rank', are.below_or_equal_to(10)).select(['Description', 'Native', 'count', 'rank'])\\\n",
    "    .sort('count', descending = True)"
   ]
  },
  {
   "cell_type": "code",
   "execution_count": 8,
   "metadata": {},
   "outputs": [
    {
     "data": {
      "image/png": "[encoded data removed]",
      "text/plain": [
       "<matplotlib.figure.Figure at 0x10ddc3908>"
      ]
     },
     "metadata": {},
     "output_type": "display_data"
    }
   ],
   "source": [
    "top10.barh(0, 2, width=12, height=8)"
   ]
  },
  {
   "cell_type": "markdown",
   "metadata": {},
   "source": [
    "### Advanced Visualisation\n",
    "For those interested in a more advanced Visualisation, here we are going to compare emoji frequency between $2$ subsets of data.\n",
    "\n",
    "First, we create a matrix of $0$s and $1$s, where `mat`$_{ij}$ represents the presence of the $j^{th}$ emoji in the $i^{th}$ tweet."
   ]
  },
  {
   "cell_type": "code",
   "execution_count": 9,
   "metadata": {
    "collapsed": true
   },
   "outputs": [],
   "source": [
    "# This is the same as the previous creation of count, but without the summing\n",
    "\n",
    "mat = 1*(Final_Tweets.apply(lambda y : emojis.apply(lambda x : x in y, 'String Representation')\\\n",
    "                               , 'text'))"
   ]
  },
  {
   "cell_type": "markdown",
   "metadata": {
    "collapsed": true
   },
   "source": [
    "Now, we define two different subsets of the data, then count the emojis in those subsets based on mat. For example, let’s compare emoji usage between tweets mentioning `#womensmarch` and tweets mentioning `#theresistance`. First, we create the two subsets, count emojis in each subset, and create a combined dataset to facilitate comparisons."
   ]
  },
  {
   "cell_type": "code",
   "execution_count": 10,
   "metadata": {
    "collapsed": true
   },
   "outputs": [],
   "source": [
    "# Which rows correspond to tweets with each hashtag?\n",
    "\n",
    "womensmarch_rows = Final_Tweets.apply(lambda x : \"#womensmarch\" in x, 'text')\n",
    "theresistance_rows = Final_Tweets.apply(lambda x : \"#theresistance\" in x, 'text')\n",
    "\n",
    "# Matrix subsets for each hashtag\n",
    "\n",
    "womensmarch_mat = mat[womensmarch_rows, :]\n",
    "theresistance_mat = mat[theresistance_rows, :]\n",
    "\n",
    "# Convert to sums of occurence of each emoji in each subset\n",
    "\n",
    "emoji_womensmarch = np.apply_along_axis(np.sum, arr = womensmarch_mat, axis = 0)\n",
    "emoji_theresistance = np.apply_along_axis(np.sum, arr = theresistance_mat, axis = 0)\n",
    "\n",
    "# Add columns to our emoji dataset corresponding to these values\n",
    "\n",
    "emojis['#theresistance Density'] = emoji_theresistance\n",
    "emojis['#womensmarch Density'] = emoji_womensmarch"
   ]
  },
  {
   "cell_type": "markdown",
   "metadata": {},
   "source": [
    "Now, we need to choose which tweets to consider for our analysis. In the following, we define `thresh` to be the minimum frequency of the tweet in both subsets and `thresh_for_each` is the minimum value for atleast $1$ of the frequencies. In our example we restrict our attention to the top `k` in each dataset, setting `k = 50`, `thresh = 1` and `thresh_for_each = 3`. Feel free to play around with these values."
   ]
  },
  {
   "cell_type": "code",
   "execution_count": 11,
   "metadata": {},
   "outputs": [
    {
     "name": "stdout",
     "output_type": "stream",
     "text": [
      "11\n"
     ]
    },
    {
     "data": {
      "text/html": [
       "<table border=\"1\" class=\"dataframe\">\n",
       "    <thead>\n",
       "        <tr>\n",
       "            <th>Description</th> <th>Native</th> <th>Bytes</th> <th>String Representation</th> <th>count</th> <th>rank</th> <th>#theresistance Density</th> <th>#womensmarch Density</th>\n",
       "        </tr>\n",
       "    </thead>\n",
       "    <tbody>\n",
       "        <tr>\n",
       "            <td>FACE WITH TEARS OF JOY                                      </td> <td>😂     </td> <td>\\xF0\\x9F\\x98\\x82                </td> <td><ed><a0><bd><ed><b8><82>                        </td> <td>174  </td> <td>4   </td> <td>3                     </td> <td>10                  </td>\n",
       "        </tr>\n",
       "    </tbody>\n",
       "        <tr>\n",
       "            <td>FLEXED BICEPS                                               </td> <td>💪     </td> <td>\\xF0\\x9F\\x92\\xAA                </td> <td><ed><a0><bd><ed><b2><aa>                        </td> <td>94   </td> <td>7   </td> <td>3                     </td> <td>7                   </td>\n",
       "        </tr>\n",
       "    </tbody>\n",
       "        <tr>\n",
       "            <td>GROWING HEART                                               </td> <td>💗     </td> <td>\\xF0\\x9F\\x92\\x97                </td> <td><ed><a0><bd><ed><b2><97>                        </td> <td>38   </td> <td>23  </td> <td>1                     </td> <td>4                   </td>\n",
       "        </tr>\n",
       "    </tbody>\n",
       "        <tr>\n",
       "            <td>HEAVY BLACK HEART                                           </td> <td>❤     </td> <td>\\xE2\\x9D\\xA4                    </td> <td><e2><9d><a4>                                    </td> <td>372  </td> <td>2   </td> <td>6                     </td> <td>10                  </td>\n",
       "        </tr>\n",
       "    </tbody>\n",
       "        <tr>\n",
       "            <td>PERSON RAISING BOTH HANDS IN CELEBRATION                    </td> <td>🙌     </td> <td>\\xF0\\x9F\\x99\\x8C                </td> <td><ed><a0><bd><ed><b9><8c>                        </td> <td>59   </td> <td>16  </td> <td>1                     </td> <td>7                   </td>\n",
       "        </tr>\n",
       "    </tbody>\n",
       "        <tr>\n",
       "            <td>PERSON WITH FOLDED HANDS                                    </td> <td>🙏     </td> <td>\\xF0\\x9F\\x99\\x8F                </td> <td><ed><a0><bd><ed><b9><8f>                        </td> <td>68   </td> <td>14  </td> <td>1                     </td> <td>3                   </td>\n",
       "        </tr>\n",
       "    </tbody>\n",
       "        <tr>\n",
       "            <td>PURPLE HEART                                                </td> <td>💜     </td> <td>\\xF0\\x9F\\x92\\x9C                </td> <td><ed><a0><bd><ed><b2><9c>                        </td> <td>55   </td> <td>18  </td> <td>1                     </td> <td>20                  </td>\n",
       "        </tr>\n",
       "    </tbody>\n",
       "        <tr>\n",
       "            <td>RAISED FIST                                                 </td> <td>✊     </td> <td>\\xE2\\x9C\\x8A                    </td> <td><e2><9c><8a>                                    </td> <td>400  </td> <td>1   </td> <td>10                    </td> <td>18                  </td>\n",
       "        </tr>\n",
       "    </tbody>\n",
       "        <tr>\n",
       "            <td>REGIONAL INDICATOR SYMBOL LETTER U + REGIONAL INDICATOR  ...</td> <td>🇺🇸    </td> <td>\\xF0\\x9F\\x87\\xBA\\xF0\\x9F\\x87\\xB8</td> <td><ed><a0><bc><ed><b7><ba><ed><a0><bc><ed><b7><b8></td> <td>332  </td> <td>3   </td> <td>1                     </td> <td>8                   </td>\n",
       "        </tr>\n",
       "    </tbody>\n",
       "        <tr>\n",
       "            <td>SPARKLING HEART                                             </td> <td>💖     </td> <td>\\xF0\\x9F\\x92\\x96                </td> <td><ed><a0><bd><ed><b2><96>                        </td> <td>33   </td> <td>26  </td> <td>1                     </td> <td>4                   </td>\n",
       "        </tr>\n",
       "    </tbody>\n",
       "</table>\n",
       "<p>... (1 rows omitted)</p"
      ],
      "text/plain": [
       "Description                                                  | Native | Bytes                            | String Representation                            | count | rank | #theresistance Density | #womensmarch Density\n",
       "FACE WITH TEARS OF JOY                                       | 😂      | \\xF0\\x9F\\x98\\x82                 | <ed><a0><bd><ed><b8><82>                         | 174   | 4    | 3                      | 10\n",
       "FLEXED BICEPS                                                | 💪      | \\xF0\\x9F\\x92\\xAA                 | <ed><a0><bd><ed><b2><aa>                         | 94    | 7    | 3                      | 7\n",
       "GROWING HEART                                                | 💗      | \\xF0\\x9F\\x92\\x97                 | <ed><a0><bd><ed><b2><97>                         | 38    | 23   | 1                      | 4\n",
       "HEAVY BLACK HEART                                            | ❤      | \\xE2\\x9D\\xA4                     | <e2><9d><a4>                                     | 372   | 2    | 6                      | 10\n",
       "PERSON RAISING BOTH HANDS IN CELEBRATION                     | 🙌      | \\xF0\\x9F\\x99\\x8C                 | <ed><a0><bd><ed><b9><8c>                         | 59    | 16   | 1                      | 7\n",
       "PERSON WITH FOLDED HANDS                                     | 🙏      | \\xF0\\x9F\\x99\\x8F                 | <ed><a0><bd><ed><b9><8f>                         | 68    | 14   | 1                      | 3\n",
       "PURPLE HEART                                                 | 💜      | \\xF0\\x9F\\x92\\x9C                 | <ed><a0><bd><ed><b2><9c>                         | 55    | 18   | 1                      | 20\n",
       "RAISED FIST                                                  | ✊      | \\xE2\\x9C\\x8A                     | <e2><9c><8a>                                     | 400   | 1    | 10                     | 18\n",
       "REGIONAL INDICATOR SYMBOL LETTER U + REGIONAL INDICATOR  ... | 🇺🇸     | \\xF0\\x9F\\x87\\xBA\\xF0\\x9F\\x87\\xB8 | <ed><a0><bc><ed><b7><ba><ed><a0><bc><ed><b7><b8> | 332   | 3    | 1                      | 8\n",
       "SPARKLING HEART                                              | 💖      | \\xF0\\x9F\\x92\\x96                 | <ed><a0><bd><ed><b2><96>                         | 33    | 26   | 1                      | 4\n",
       "... (1 rows omitted)"
      ]
     },
     "execution_count": 11,
     "metadata": {},
     "output_type": "execute_result"
    }
   ],
   "source": [
    "k = 50\n",
    "thresh = 1\n",
    "thresh_for_each = 3\n",
    "\n",
    "# Subset top k for each category\n",
    "\n",
    "keep = np.zeros(842)\n",
    "keep[np.argsort(emojis['#theresistance Density'])[-k:]] = 1\n",
    "keep[np.argsort(emojis['#womensmarch Density'])[-k:]] = 1\n",
    "\n",
    "# Subset minimum threshold\n",
    "\n",
    "keep = np.logical_and(keep, np.logical_and(emojis['#theresistance Density'] >= thresh, \\\n",
    "                                          emojis['#womensmarch Density'] >= thresh))\n",
    "\n",
    "# Subset the minimum for atleast one subset\n",
    "\n",
    "keep = np.logical_and(keep, np.logical_or(emojis['#theresistance Density'] >= thresh_for_each, \\\n",
    "                                          emojis['#womensmarch Density'] >= thresh_for_each))\n",
    "\n",
    "# Make the subset\n",
    "\n",
    "dataset_to_analyse = emojis.take(np.arange(emojis.num_rows)[keep])\n",
    "\n",
    "print(dataset_to_analyse.num_rows)\n",
    "\n",
    "dataset_to_analyse"
   ]
  },
  {
   "cell_type": "markdown",
   "metadata": {},
   "source": [
    "Before proceeding, make sure the number of rows in the final dataset isn't too small (don't want missing information) or too large (don't want irrelevant information). Somewhere between $5-10$ should be fine.\n",
    "\n",
    "Lastly, we are going to plot the `log odds` ratio of emoji counts in tweets containing `#theresistance` vs those containing `#womensmarch` on the x-axis and the y-axis will contain the overall frequency per $1000$ tweets of each emoji."
   ]
  },
  {
   "cell_type": "code",
   "execution_count": 34,
   "metadata": {},
   "outputs": [
    {
     "data": {
      "image/png": "[encoded data removed]",
      "text/plain": [
       "<matplotlib.figure.Figure at 0x11812cf28>"
      ]
     },
     "metadata": {},
     "output_type": "display_data"
    }
   ],
   "source": [
    "# Computing required values\n",
    "logOdds = np.log(dataset_to_analyse['#theresistance Density']/dataset_to_analyse['#womensmarch Density'])\n",
    "Overall_Frequency_per1000 = emojis['count'][keep]/1000\n",
    "\n",
    "# Plot the points\n",
    "plt.plot(logOdds, Overall_Frequency_per1000, 'ro')\n",
    "\n",
    "# Label each point with the overall rank of the emoji\n",
    "\n",
    "labels = dataset_to_analyse['rank']\n",
    "\n",
    "for label, x, y in zip(labels, logOdds, Overall_Frequency_per1000):\n",
    "    plt.annotate(\n",
    "        label,\n",
    "        xy=(x, y), xytext=(-20, 25),\n",
    "        textcoords='offset points', ha='right', va='bottom',\n",
    "        bbox=dict(boxstyle='round',pad=0.5, fc='yellow', alpha=0.5),\n",
    "        arrowprops=dict(arrowstyle = '->', connectionstyle='arc3,rad=0'),\n",
    "        fontsize=15)\n",
    "\n",
    "plt.show()"
   ]
  },
  {
   "cell_type": "markdown",
   "metadata": {
    "collapsed": true
   },
   "source": [
    "Note some of the interesting trends here. When the `log odds` ratio is close to $0$, intuitively what should the overall frequency of those emojis be compared to the others? Do emojis to the far left and far right represent emotions you would associate with `#womensmarch` tweets and `#theresistance` tweets respectively?"
   ]
  }
 ],
 "metadata": {
  "kernelspec": {
   "display_name": "Python 3",
   "language": "python",
   "name": "python3"
  },
  "language_info": {
   "codemirror_mode": {
    "name": "ipython",
    "version": 3
   },
   "file_extension": ".py",
   "mimetype": "text/x-python",
   "name": "python",
   "nbconvert_exporter": "python",
   "pygments_lexer": "ipython3",
   "version": "3.6.1"
  }
 },
 "nbformat": 4,
 "nbformat_minor": 2
}
